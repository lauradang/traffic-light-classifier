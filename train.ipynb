{
 "cells": [
  {
   "cell_type": "code",
   "execution_count": 232,
   "metadata": {},
   "outputs": [],
   "source": [
    "import numpy as np\n",
    "import matplotlib.pyplot as plt\n",
    "import os\n",
    "import cv2\n",
    "import pandas as pd\n",
    "import re"
   ]
  },
  {
   "cell_type": "code",
   "execution_count": 233,
   "metadata": {},
   "outputs": [],
   "source": [
    "df_dayseq1 = pd.read_csv(r\"Annotations/daySequence1/frameAnnotationsBULB.csv\", sep=';').sample(frac=1)\n",
    "df_dayseq2 = pd.read_csv(r\"Annotations/daySequence2/frameAnnotationsBULB.csv\", sep=';').sample(frac=1)\n",
    "df_nightseq1 = pd.read_csv(r\"Annotations/nightSequence1/frameAnnotationsBULB.csv\", sep=';').sample(frac=1)\n",
    "df_nightseq2 = pd.read_csv(r\"Annotations/nightSequence2/frameAnnotationsBULB.csv\", sep=';').sample(frac=1)"
   ]
  },
  {
   "cell_type": "code",
   "execution_count": 234,
   "metadata": {},
   "outputs": [],
   "source": [
    "# df_dayseq1.head(1000).sort_values(by=[\"Annotation tag\"], ascending=False)\n",
    "# df_dayseq1.groupby('Annotation tag').count()\n",
    "num_of_warning = len(df_dayseq1[df_dayseq1['Annotation tag'] == 'warning']) + len(df_dayseq2[df_dayseq2['Annotation tag'] == 'warning']) + len(df_nightseq1[df_nightseq1['Annotation tag'] == 'warning']) + len(df_nightseq2[df_nightseq2['Annotation tag'] == 'warning']) - 1 # make it divisible by 4 (number of dataframes)\n"
   ]
  },
  {
   "cell_type": "code",
   "execution_count": 235,
   "metadata": {},
   "outputs": [],
   "source": [
    "paths = [\n",
    "    (df_dayseq1, \"Filename\", \"dayTest\", \"daySequence1/frames\"),\n",
    "    (df_dayseq2, \"Filename\", \"dayTest\", \"daySequence2/frames\"),\n",
    "    (df_nightseq1, \"Filename\", \"nightTest\", \"nightSequence1/frames\"),\n",
    "    (df_nightseq2, \"Filename\", \"nightTest\", \"nightSequence2/frames\"),\n",
    "]"
   ]
  },
  {
   "cell_type": "code",
   "execution_count": 236,
   "metadata": {},
   "outputs": [],
   "source": [
    "def get_data(df, row_name, replace_param1, replace_param2, class_name, num_entries):\n",
    "    training_data = []\n",
    "    IMG_SIZE = 170\n",
    "    count = 0\n",
    "    \n",
    "    if class_name == \"stop\":\n",
    "        class_num = 0\n",
    "    elif class_name == \"warning\":\n",
    "        class_num = 1\n",
    "    elif class_name == \"go\":\n",
    "        class_num = 2\n",
    "        \n",
    "    dataframe = df[df['Annotation tag'] == class_name].sample(frac=1)\n",
    "    \n",
    "    for index, row in dataframe.iterrows():\n",
    "        path = row[row_name].replace(replace_param1, replace_param2)\n",
    "        \n",
    "        img_array = cv2.imread(path)\n",
    "        img_array = cv2.cvtColor(img_array, cv2.COLOR_BGR2RGB)\n",
    "        new_array = cv2.resize(img_array,(IMG_SIZE, IMG_SIZE))\n",
    "        training_data.append([new_array, class_num])\n",
    "        count += 1\n",
    "        \n",
    "        if count == num_entries:\n",
    "            break\n",
    "            \n",
    "    return training_data"
   ]
  },
  {
   "cell_type": "code",
   "execution_count": 237,
   "metadata": {},
   "outputs": [],
   "source": [
    "data = []\n",
    "\n",
    "for idx, item in enumerate(paths):\n",
    "    data.append(get_data(paths[idx][0], paths[idx][1], paths[idx][2], paths[idx][3], 'stop', num_of_warning / 4))\n",
    "\n",
    "for idx, item in enumerate(paths):\n",
    "    data.append(get_data(paths[idx][0], paths[idx][1], paths[idx][2], paths[idx][3], 'warning', 100000)) # don't want this to break (want all warning entries)\n",
    "\n",
    "for idx, item in enumerate(paths):\n",
    "    data.append(get_data(paths[idx][0], paths[idx][1], paths[idx][2], paths[idx][3], 'go', num_of_warning / 4))"
   ]
  },
  {
   "cell_type": "code",
   "execution_count": 238,
   "metadata": {},
   "outputs": [],
   "source": [
    "flattened_data = [item for items in data for item in items]"
   ]
  },
  {
   "cell_type": "code",
   "execution_count": 239,
   "metadata": {},
   "outputs": [],
   "source": [
    "import random\n",
    "random.shuffle(flattened_data)"
   ]
  },
  {
   "cell_type": "code",
   "execution_count": 240,
   "metadata": {},
   "outputs": [],
   "source": [
    "stop_count = 0\n",
    "go_count = 0\n",
    "warning_count = 0\n",
    "\n",
    "for features, label in flattened_data:\n",
    "    if label == 0:\n",
    "        stop_count += 1\n",
    "    elif label == 1:\n",
    "        warning_count += 1\n",
    "    else:\n",
    "        go_count +=1"
   ]
  },
  {
   "cell_type": "code",
   "execution_count": 244,
   "metadata": {},
   "outputs": [
    {
     "name": "stdout",
     "output_type": "stream",
     "text": [
      "4441\n",
      "1480\n",
      "1480\n",
      "1481\n"
     ]
    }
   ],
   "source": [
    "print(len(flattened_data))\n",
    "print(stop_count)\n",
    "print(go_count)\n",
    "print(warning_count)"
   ]
  },
  {
   "cell_type": "code",
   "execution_count": 245,
   "metadata": {},
   "outputs": [],
   "source": [
    "X = []\n",
    "y = []\n",
    "\n",
    "for features, label in flattened_data:\n",
    "    X.append(features)\n",
    "    y.append(label)"
   ]
  },
  {
   "cell_type": "code",
   "execution_count": 246,
   "metadata": {},
   "outputs": [
    {
     "name": "stdout",
     "output_type": "stream",
     "text": [
      "4441\n",
      "4441\n"
     ]
    }
   ],
   "source": [
    "print(len(X))\n",
    "print(len(y))"
   ]
  },
  {
   "cell_type": "code",
   "execution_count": 247,
   "metadata": {},
   "outputs": [],
   "source": [
    "import pickle\n",
    "\n",
    "pickle_out = open(\"X.pickle\", \"wb\")\n",
    "pickle.dump(X, pickle_out)\n",
    "pickle_out.close()\n",
    "\n",
    "pickle_out = open(\"y.pickle\", \"wb\")\n",
    "pickle.dump(y, pickle_out)\n",
    "pickle_out.close()"
   ]
  },
  {
   "cell_type": "code",
   "execution_count": null,
   "metadata": {},
   "outputs": [],
   "source": []
  }
 ],
 "metadata": {
  "kernelspec": {
   "display_name": "Python 3",
   "language": "python",
   "name": "python3"
  },
  "language_info": {
   "codemirror_mode": {
    "name": "ipython",
    "version": 3
   },
   "file_extension": ".py",
   "mimetype": "text/x-python",
   "name": "python",
   "nbconvert_exporter": "python",
   "pygments_lexer": "ipython3",
   "version": "3.7.4"
  }
 },
 "nbformat": 4,
 "nbformat_minor": 2
}
